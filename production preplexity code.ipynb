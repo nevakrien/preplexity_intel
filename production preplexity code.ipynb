{
 "cells": [
  {
   "cell_type": "markdown",
   "id": "2575d0d2",
   "metadata": {},
   "source": [
    "# loading model \n",
    "this part needs to output:\n",
    "1. tokenizer\n",
    "2. model \n",
    "3. max_len"
   ]
  },
  {
   "cell_type": "code",
   "execution_count": 1,
   "id": "1c9811f7",
   "metadata": {},
   "outputs": [
    {
     "name": "stderr",
     "output_type": "stream",
     "text": [
      "2023-06-14 15:52:18.188582: I tensorflow/core/util/util.cc:169] oneDNN custom operations are on. You may see slightly different numerical results due to floating-point round-off errors from different computation orders. To turn them off, set the environment variable `TF_ENABLE_ONEDNN_OPTS=0`.\n",
      "2023-06-14 15:52:18.190647: W tensorflow/stream_executor/platform/default/dso_loader.cc:64] Could not load dynamic library 'libcudart.so.11.0'; dlerror: libcudart.so.11.0: cannot open shared object file: No such file or directory\n",
      "2023-06-14 15:52:18.190652: I tensorflow/stream_executor/cuda/cudart_stub.cc:29] Ignore above cudart dlerror if you do not have a GPU set up on your machine.\n"
     ]
    }
   ],
   "source": [
    "#tramsformers imports\n",
    "import transformers\n",
    "from transformers import AutoTokenizer, AutoModelForCausalLM\n",
    "\n",
    "from packaging import version\n",
    "assert version.parse(transformers.__version__) >= version.parse(\"4.23.0\")"
   ]
  },
  {
   "cell_type": "code",
   "execution_count": 2,
   "id": "0f625d72",
   "metadata": {},
   "outputs": [],
   "source": [
    "#model parameters\n",
    "DEVICE='cpu'\n",
    "MAX_LEN=4096"
   ]
  },
  {
   "cell_type": "code",
   "execution_count": 3,
   "id": "7a8aedbc",
   "metadata": {},
   "outputs": [],
   "source": [
    "#imports\n",
    "import json\n",
    "import os\n",
    "from os.path import join\n",
    "import pandas as pd\n",
    "from tqdm.notebook import tqdm\n",
    "\n",
    "import pygments\n",
    "from pygments.lexers import get_lexer_by_name\n",
    "\n",
    "import torch.nn.functional as F \n",
    "import torch \n"
   ]
  },
  {
   "cell_type": "code",
   "execution_count": 4,
   "id": "591d5cf9",
   "metadata": {},
   "outputs": [],
   "source": [
    "#genral parameters\n",
    "data_file='cpp000000000302.json'\n",
    "LANG='cpp'\n",
    "SAVE_DIR='test_save'"
   ]
  },
  {
   "cell_type": "code",
   "execution_count": 5,
   "id": "786272bb",
   "metadata": {},
   "outputs": [],
   "source": [
    "#geting the model and tokenizer\n",
    "tokenizer = AutoTokenizer.from_pretrained(\"NinedayWang/PolyCoder-160m\")\n",
    "model = AutoModelForCausalLM.from_pretrained(\"NinedayWang/PolyCoder-160m\").to(DEVICE)\n",
    "\n",
    "model.config.max_position_embeddings=MAX_LEN\n",
    "#making_new_bias\n",
    "b = torch.ones(MAX_LEN, MAX_LEN,dtype=torch.uint8)\n",
    "b = torch.tril(b)\n",
    "b = b.unsqueeze(0).unsqueeze(0).to(DEVICE)\n",
    "\n",
    "\n",
    "for l in model.base_model.layers:\n",
    "    l.attention.bias=b.clone()"
   ]
  },
  {
   "cell_type": "code",
   "execution_count": 6,
   "id": "369bf995",
   "metadata": {},
   "outputs": [
    {
     "name": "stdout",
     "output_type": "stream",
     "text": [
      "data: 10108 errors: 0\n"
     ]
    }
   ],
   "source": [
    "import json\n",
    "\n",
    "def process_data_file(data_file):\n",
    "    \"\"\"\n",
    "    Read a file containing JSON objects, parse them, and handle any errors encountered.\n",
    "\n",
    "    Args:\n",
    "        data_file (str): The path to the data file.\n",
    "\n",
    "    Returns:\n",
    "        tuple: A tuple containing the processed data, a list of errors encountered,\n",
    "               and a list of faulty lines.\n",
    "\n",
    "    \"\"\"\n",
    "    data = []  # List to store the parsed JSON objects\n",
    "    errors = []  # List to store the encountered errors\n",
    "    faultys = []  # List to store the faulty lines\n",
    "\n",
    "    with open(data_file, 'rb') as f:\n",
    "        for i, line in enumerate(f):\n",
    "            try:\n",
    "                data.append(json.loads(line))  # Parse the JSON object and add it to 'data'\n",
    "            except Exception as e:\n",
    "                print(f'Errored at line {i}: {e}')\n",
    "                errors.append(e)\n",
    "                faultys.append(line)\n",
    "\n",
    "    #print(f'data: {len(data)} errors: {len(errors)}')\n",
    "    return data, errors, faultys\n",
    "\n",
    "# Example usage:\n",
    "\n",
    "repos, errors, faulty_lines = process_data_file(data_file)\n",
    "print(f'data: {len(repos)} errors: {len(errors)}')"
   ]
  },
  {
   "cell_type": "code",
   "execution_count": 8,
   "id": "0127af83",
   "metadata": {},
   "outputs": [
    {
     "name": "stdout",
     "output_type": "stream",
     "text": [
      "10104\n"
     ]
    }
   ],
   "source": [
    "valid_repos=[d for d in repos if 'content' in d.keys() and 'repo_name' in d.keys()]\n",
    "#codes=[d['content'] for d in valid_repos]\n",
    "print(len(valid_repos))"
   ]
  },
  {
   "cell_type": "code",
   "execution_count": 9,
   "id": "e4acf428",
   "metadata": {},
   "outputs": [
    {
     "data": {
      "text/plain": [
       "46"
      ]
     },
     "execution_count": 9,
     "metadata": {},
     "output_type": "execute_result"
    }
   ],
   "source": [
    "lexer = get_lexer_by_name(LANG)\n",
    "LEX_VOCAB=sum(len(v) for v in lexer.tokens.values())\n",
    "LEX_VOCAB"
   ]
  },
  {
   "cell_type": "markdown",
   "id": "0232269c",
   "metadata": {},
   "source": [
    "# main loop"
   ]
  },
  {
   "cell_type": "code",
   "execution_count": 10,
   "id": "68f3b90b",
   "metadata": {},
   "outputs": [],
   "source": [
    "class CodeTooLongError(ValueError):\n",
    "    def __init__(self, message=\"Code too long for the model\"):\n",
    "        self.message = message\n",
    "        super().__init__(self.message)\n",
    "#raise CodeTooLongError"
   ]
  },
  {
   "cell_type": "code",
   "execution_count": 11,
   "id": "0ab8b485",
   "metadata": {},
   "outputs": [],
   "source": [
    "def compute_repo_metrics(repo):\n",
    "    c = repo['content']\n",
    "    num_tok = len(list(pygments.lex(c, lexer)))\n",
    "    input_ids = tokenizer.encode(c, return_tensors='pt').to(DEVICE)\n",
    "    if input_ids.shape[-1] > LEX_VOCAB:\n",
    "        raise CodeTooLongError\n",
    "    out = model(input_ids).logits\n",
    "    l = F.cross_entropy(out, F.one_hot(input_ids, out.shape[-1]).to(float), reduction='sum')\n",
    "    return {'repo_name': repo['repo_name'], 'cross_entropy': l.detach().cpu().item(), 'lexical_length': num_tok}\n"
   ]
  },
  {
   "cell_type": "code",
   "execution_count": 12,
   "id": "e7cff765",
   "metadata": {},
   "outputs": [
    {
     "data": {
      "application/vnd.jupyter.widget-view+json": {
       "model_id": "7e2b6137441a4632aa3c90becc977646",
       "version_major": 2,
       "version_minor": 0
      },
      "text/plain": [
       "  0%|          | 0/10104 [00:00<?, ?it/s]"
      ]
     },
     "metadata": {},
     "output_type": "display_data"
    },
    {
     "ename": "KeyboardInterrupt",
     "evalue": "",
     "output_type": "error",
     "traceback": [
      "\u001b[0;31m---------------------------------------------------------------------------\u001b[0m",
      "\u001b[0;31mKeyboardInterrupt\u001b[0m                         Traceback (most recent call last)",
      "Cell \u001b[0;32mIn[12], line 5\u001b[0m\n\u001b[1;32m      3\u001b[0m \u001b[38;5;28;01mfor\u001b[39;00m r \u001b[38;5;129;01min\u001b[39;00m tqdm(valid_repos ):\n\u001b[1;32m      4\u001b[0m     \u001b[38;5;28;01mtry\u001b[39;00m: \n\u001b[0;32m----> 5\u001b[0m         ans\u001b[38;5;241m.\u001b[39mappend(\u001b[43mcompute_repo_metrics\u001b[49m\u001b[43m(\u001b[49m\u001b[43mr\u001b[49m\u001b[43m)\u001b[49m)\n\u001b[1;32m      6\u001b[0m     \u001b[38;5;28;01mexcept\u001b[39;00m \u001b[38;5;167;01mException\u001b[39;00m \u001b[38;5;28;01mas\u001b[39;00m e:\n\u001b[1;32m      7\u001b[0m         skiped\u001b[38;5;241m.\u001b[39mappend({\u001b[38;5;124m'\u001b[39m\u001b[38;5;124mrepo_name\u001b[39m\u001b[38;5;124m'\u001b[39m:r[\u001b[38;5;124m'\u001b[39m\u001b[38;5;124mrepo_name\u001b[39m\u001b[38;5;124m'\u001b[39m],\u001b[38;5;124m'\u001b[39m\u001b[38;5;124merror\u001b[39m\u001b[38;5;124m'\u001b[39m:e})\n",
      "Cell \u001b[0;32mIn[11], line 3\u001b[0m, in \u001b[0;36mcompute_repo_metrics\u001b[0;34m(repo)\u001b[0m\n\u001b[1;32m      1\u001b[0m \u001b[38;5;28;01mdef\u001b[39;00m \u001b[38;5;21mcompute_repo_metrics\u001b[39m(repo):\n\u001b[1;32m      2\u001b[0m     c \u001b[38;5;241m=\u001b[39m repo[\u001b[38;5;124m'\u001b[39m\u001b[38;5;124mcontent\u001b[39m\u001b[38;5;124m'\u001b[39m]\n\u001b[0;32m----> 3\u001b[0m     num_tok \u001b[38;5;241m=\u001b[39m \u001b[38;5;28mlen\u001b[39m(\u001b[38;5;28;43mlist\u001b[39;49m\u001b[43m(\u001b[49m\u001b[43mpygments\u001b[49m\u001b[38;5;241;43m.\u001b[39;49m\u001b[43mlex\u001b[49m\u001b[43m(\u001b[49m\u001b[43mc\u001b[49m\u001b[43m,\u001b[49m\u001b[43m \u001b[49m\u001b[43mlexer\u001b[49m\u001b[43m)\u001b[49m\u001b[43m)\u001b[49m)\n\u001b[1;32m      4\u001b[0m     input_ids \u001b[38;5;241m=\u001b[39m tokenizer\u001b[38;5;241m.\u001b[39mencode(c, return_tensors\u001b[38;5;241m=\u001b[39m\u001b[38;5;124m'\u001b[39m\u001b[38;5;124mpt\u001b[39m\u001b[38;5;124m'\u001b[39m)\u001b[38;5;241m.\u001b[39mto(DEVICE)\n\u001b[1;32m      5\u001b[0m     \u001b[38;5;28;01mif\u001b[39;00m input_ids\u001b[38;5;241m.\u001b[39mshape[\u001b[38;5;241m-\u001b[39m\u001b[38;5;241m1\u001b[39m] \u001b[38;5;241m>\u001b[39m LEX_VOCAB:\n",
      "File \u001b[0;32m~/anaconda3/envs/dev/lib/python3.9/site-packages/pygments/lexer.py:250\u001b[0m, in \u001b[0;36mLexer.get_tokens.<locals>.streamer\u001b[0;34m()\u001b[0m\n\u001b[1;32m    249\u001b[0m \u001b[38;5;28;01mdef\u001b[39;00m \u001b[38;5;21mstreamer\u001b[39m():\n\u001b[0;32m--> 250\u001b[0m     \u001b[38;5;28;01mfor\u001b[39;00m _, t, v \u001b[38;5;129;01min\u001b[39;00m \u001b[38;5;28mself\u001b[39m\u001b[38;5;241m.\u001b[39mget_tokens_unprocessed(text):\n\u001b[1;32m    251\u001b[0m         \u001b[38;5;28;01myield\u001b[39;00m t, v\n",
      "File \u001b[0;32m~/anaconda3/envs/dev/lib/python3.9/site-packages/pygments/lexers/c_cpp.py:255\u001b[0m, in \u001b[0;36mCFamilyLexer.get_tokens_unprocessed\u001b[0;34m(self, text, stack)\u001b[0m\n\u001b[1;32m    254\u001b[0m \u001b[38;5;28;01mdef\u001b[39;00m \u001b[38;5;21mget_tokens_unprocessed\u001b[39m(\u001b[38;5;28mself\u001b[39m, text, stack\u001b[38;5;241m=\u001b[39m(\u001b[38;5;124m'\u001b[39m\u001b[38;5;124mroot\u001b[39m\u001b[38;5;124m'\u001b[39m,)):\n\u001b[0;32m--> 255\u001b[0m     \u001b[38;5;28;01mfor\u001b[39;00m index, token, value \u001b[38;5;129;01min\u001b[39;00m \\\n\u001b[1;32m    256\u001b[0m             RegexLexer\u001b[38;5;241m.\u001b[39mget_tokens_unprocessed(\u001b[38;5;28mself\u001b[39m, text, stack):\n\u001b[1;32m    257\u001b[0m         \u001b[38;5;28;01mif\u001b[39;00m token \u001b[38;5;129;01mis\u001b[39;00m Name:\n\u001b[1;32m    258\u001b[0m             \u001b[38;5;28;01mif\u001b[39;00m \u001b[38;5;28mself\u001b[39m\u001b[38;5;241m.\u001b[39mstdlibhighlighting \u001b[38;5;129;01mand\u001b[39;00m value \u001b[38;5;129;01min\u001b[39;00m \u001b[38;5;28mself\u001b[39m\u001b[38;5;241m.\u001b[39mstdlib_types:\n",
      "File \u001b[0;32m~/anaconda3/envs/dev/lib/python3.9/site-packages/pygments/lexer.py:693\u001b[0m, in \u001b[0;36mRegexLexer.get_tokens_unprocessed\u001b[0;34m(self, text, stack)\u001b[0m\n\u001b[1;32m    691\u001b[0m \u001b[38;5;28;01mwhile\u001b[39;00m \u001b[38;5;241m1\u001b[39m:\n\u001b[1;32m    692\u001b[0m     \u001b[38;5;28;01mfor\u001b[39;00m rexmatch, action, new_state \u001b[38;5;129;01min\u001b[39;00m statetokens:\n\u001b[0;32m--> 693\u001b[0m         m \u001b[38;5;241m=\u001b[39m \u001b[43mrexmatch\u001b[49m\u001b[43m(\u001b[49m\u001b[43mtext\u001b[49m\u001b[43m,\u001b[49m\u001b[43m \u001b[49m\u001b[43mpos\u001b[49m\u001b[43m)\u001b[49m\n\u001b[1;32m    694\u001b[0m         \u001b[38;5;28;01mif\u001b[39;00m m:\n\u001b[1;32m    695\u001b[0m             \u001b[38;5;28;01mif\u001b[39;00m action \u001b[38;5;129;01mis\u001b[39;00m \u001b[38;5;129;01mnot\u001b[39;00m \u001b[38;5;28;01mNone\u001b[39;00m:\n",
      "\u001b[0;31mKeyboardInterrupt\u001b[0m: "
     ]
    }
   ],
   "source": [
    "ans=[]\n",
    "skiped=[]\n",
    "for r in tqdm(valid_repos ):\n",
    "    try: \n",
    "        ans.append(compute_repo_metrics(r))\n",
    "    except Exception as e:\n",
    "        skiped.append({'repo_name':r['repo_name'],'error':e})"
   ]
  },
  {
   "cell_type": "code",
   "execution_count": 16,
   "id": "8c546c80",
   "metadata": {},
   "outputs": [
    {
     "data": {
      "text/plain": [
       "{'preplexity': 1.3579456806182861, 'lex tokens': 84}"
      ]
     },
     "execution_count": 16,
     "metadata": {},
     "output_type": "execute_result"
    }
   ],
   "source": [
    "def get_results(ans):\n",
    "    #need to do numerical stabilety better\n",
    "    all_tokens=sum(x['lexical_length'] for x in ans)\n",
    "    neg_log=torch.sum(torch.Tensor(tuple(x['cross_entropy'] for x in ans)))\n",
    "    preplexity=torch.exp(neg_log/(all_tokens*LEX_VOCAB))\n",
    "    return {'preplexity':preplexity.detach().cpu().item(),'lex tokens':all_tokens}\n",
    "\n",
    "results=get_results(ans)\n",
    "results"
   ]
  },
  {
   "cell_type": "markdown",
   "id": "e664b71b",
   "metadata": {},
   "source": [
    "# record keeping"
   ]
  },
  {
   "cell_type": "code",
   "execution_count": 17,
   "id": "4c30c819",
   "metadata": {},
   "outputs": [],
   "source": [
    "good_df=pd.DataFrame(ans)\n",
    "bad_df=pd.DataFrame(skiped)\n",
    "ans_df=pd.DataFrame([results])\n",
    "\n",
    "if SAVE_DIR:\n",
    "    os.makedirs(SAVE_DIR)\n",
    "    good_df.to_csv(join(SAVE_DIR,'calc.csv'),index=False)\n",
    "    bad_df.to_csv(join(SAVE_DIR,'error.csv'),index=False)\n",
    "    ans_df.to_csv(join(SAVE_DIR,'result.csv'),index=False)"
   ]
  },
  {
   "cell_type": "code",
   "execution_count": null,
   "id": "9585748d",
   "metadata": {},
   "outputs": [],
   "source": []
  }
 ],
 "metadata": {
  "kernelspec": {
   "display_name": "Python 3 (ipykernel)",
   "language": "python",
   "name": "python3"
  },
  "language_info": {
   "codemirror_mode": {
    "name": "ipython",
    "version": 3
   },
   "file_extension": ".py",
   "mimetype": "text/x-python",
   "name": "python",
   "nbconvert_exporter": "python",
   "pygments_lexer": "ipython3",
   "version": "3.9.16"
  }
 },
 "nbformat": 4,
 "nbformat_minor": 5
}
