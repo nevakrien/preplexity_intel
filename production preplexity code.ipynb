{
 "cells": [
  {
   "cell_type": "markdown",
   "id": "2575d0d2",
   "metadata": {},
   "source": [
    "# loading model \n",
    "this part needs to output:\n",
    "1. tokenizer\n",
    "2. model \n",
    "3. max_len"
   ]
  },
  {
   "cell_type": "code",
   "execution_count": 1,
   "id": "1c9811f7",
   "metadata": {},
   "outputs": [],
   "source": [
    "#tramsformers imports\n",
    "import transformers\n",
    "from transformers import AutoTokenizer, AutoModelForCausalLM\n",
    "\n",
    "from packaging import version\n",
    "assert version.parse(transformers.__version__) >= version.parse(\"4.23.0\")"
   ]
  },
  {
   "cell_type": "code",
   "execution_count": 2,
   "id": "0f625d72",
   "metadata": {},
   "outputs": [],
   "source": [
    "#model parameters\n",
    "DEVICE='cpu'\n",
    "MAX_INPUT_LEN=4096\n",
    "SKIP_LEN=10_000 #this should onlt be used if the memory on the machine is stretched to its limits. better safe than sorry tho"
   ]
  },
  {
   "cell_type": "code",
   "execution_count": 3,
   "id": "7a8aedbc",
   "metadata": {},
   "outputs": [],
   "source": [
    "#imports\n",
    "import json\n",
    "import os\n",
    "from os.path import join\n",
    "import pandas as pd\n",
    "from tqdm.notebook import tqdm\n",
    "\n",
    "import pygments\n",
    "from pygments.lexers import get_lexer_by_name\n",
    "\n",
    "import torch.nn.functional as F \n",
    "import torch \n"
   ]
  },
  {
   "cell_type": "code",
   "execution_count": 4,
   "id": "591d5cf9",
   "metadata": {},
   "outputs": [],
   "source": [
    "#genral parameters\n",
    "data_file='cpp000000000302.json'\n",
    "LANG='cpp'\n",
    "SAVE_DIR='test_save'"
   ]
  },
  {
   "cell_type": "code",
   "execution_count": 5,
   "id": "786272bb",
   "metadata": {},
   "outputs": [],
   "source": [
    "#geting the model and tokenizer\n",
    "tokenizer = AutoTokenizer.from_pretrained(\"NinedayWang/PolyCoder-160m\")\n",
    "model = AutoModelForCausalLM.from_pretrained(\"NinedayWang/PolyCoder-160m\").to(DEVICE)\n",
    "\n",
    "MAX_LEN=model.config.max_position_embeddings"
   ]
  },
  {
   "cell_type": "code",
   "execution_count": 6,
   "id": "a0215ac0",
   "metadata": {},
   "outputs": [],
   "source": [
    "#def make_internal_mask(model=model,l=MAX_INPUT_LEN):\n",
    "    #making the attention mask with the corect context window\n",
    "b = torch.ones(MAX_INPUT_LEN, MAX_INPUT_LEN,dtype=torch.bool)\n",
    "b = torch.tril(b)\n",
    "for i in range(MAX_INPUT_LEN):\n",
    "    if(i>MAX_LEN):\n",
    "        b[i][:i-MAX_LEN]=0\n",
    "b = b.unsqueeze(0).unsqueeze(0).to(DEVICE)\n",
    "\n",
    "for l in model.base_model.layers:\n",
    "    l.attention.bias=b.clone()\n",
    "        \n",
    "#make_internal_mask()"
   ]
  },
  {
   "cell_type": "code",
   "execution_count": 7,
   "id": "369bf995",
   "metadata": {},
   "outputs": [
    {
     "name": "stdout",
     "output_type": "stream",
     "text": [
      "data: 10108 errors: 0\n"
     ]
    }
   ],
   "source": [
    "import json\n",
    "\n",
    "def process_data_file(data_file):\n",
    "    \"\"\"\n",
    "    Read a file containing JSON objects, parse them, and handle any errors encountered.\n",
    "\n",
    "    Args:\n",
    "        data_file (str): The path to the data file.\n",
    "\n",
    "    Returns:\n",
    "        tuple: A tuple containing the processed data, a list of errors encountered,\n",
    "               and a list of faulty lines.\n",
    "\n",
    "    \"\"\"\n",
    "    data = []  # List to store the parsed JSON objects\n",
    "    errors = []  # List to store the encountered errors\n",
    "    faultys = []  # List to store the faulty lines\n",
    "\n",
    "    with open(data_file, 'rb') as f:\n",
    "        for i, line in enumerate(f):\n",
    "            try:\n",
    "                data.append(json.loads(line))  # Parse the JSON object and add it to 'data'\n",
    "            except Exception as e:\n",
    "                print(f'Errored at line {i}: {e}')\n",
    "                errors.append(e)\n",
    "                faultys.append(line)\n",
    "\n",
    "    #print(f'data: {len(data)} errors: {len(errors)}')\n",
    "    return data, errors, faultys\n",
    "\n",
    "# Example usage:\n",
    "\n",
    "repos, errors, faulty_lines = process_data_file(data_file)\n",
    "print(f'data: {len(repos)} errors: {len(errors)}')"
   ]
  },
  {
   "cell_type": "code",
   "execution_count": 8,
   "id": "0127af83",
   "metadata": {},
   "outputs": [
    {
     "name": "stdout",
     "output_type": "stream",
     "text": [
      "10104\n"
     ]
    }
   ],
   "source": [
    "valid_repos=[d for d in repos if 'content' in d.keys() and 'repo_name' in d.keys()]\n",
    "#codes=[d['content'] for d in valid_repos]\n",
    "print(len(valid_repos))"
   ]
  },
  {
   "cell_type": "code",
   "execution_count": 9,
   "id": "e4acf428",
   "metadata": {},
   "outputs": [
    {
     "data": {
      "text/plain": [
       "46"
      ]
     },
     "execution_count": 9,
     "metadata": {},
     "output_type": "execute_result"
    }
   ],
   "source": [
    "lexer = get_lexer_by_name(LANG)\n",
    "LEX_VOCAB=sum(len(v) for v in lexer.tokens.values())\n",
    "LEX_VOCAB"
   ]
  },
  {
   "cell_type": "markdown",
   "id": "fc51b4ed",
   "metadata": {},
   "source": [
    "# chunked infrance"
   ]
  },
  {
   "cell_type": "code",
   "execution_count": 14,
   "id": "49dd758d",
   "metadata": {},
   "outputs": [
    {
     "data": {
      "text/plain": [
       "(torch.Size([1, 45266]), 2048, 4096)"
      ]
     },
     "execution_count": 14,
     "metadata": {},
     "output_type": "execute_result"
    }
   ],
   "source": [
    "c=valid_repos[1]['content']\n",
    "input_ids = tokenizer.encode(c, return_tensors='pt').to(DEVICE)\n",
    "input_ids.shape,MAX_LEN,MAX_INPUT_LEN"
   ]
  },
  {
   "cell_type": "code",
   "execution_count": 15,
   "id": "8e7eec4d",
   "metadata": {
    "scrolled": true
   },
   "outputs": [
    {
     "name": "stdout",
     "output_type": "stream",
     "text": [
      "done unit test\n"
     ]
    }
   ],
   "source": [
    "@torch.no_grad()\n",
    "def run_model(input_ids):\n",
    "    x=input_ids[:,:MAX_INPUT_LEN]\n",
    "    #print(x.shape)\n",
    "    out=model(x)\n",
    "    ans=out.logits\n",
    "    \n",
    "    start=MAX_INPUT_LEN\n",
    "    end=2*MAX_INPUT_LEN-MAX_LEN\n",
    "    \n",
    "    while start<input_ids.shape[1]:\n",
    "        #print(out.past_key_values[1][0].shape)\n",
    "        cut_kv=[[z[:,:,-MAX_LEN:] for z in y] for y in out.past_key_values]\n",
    "        #print(cut_kv[0][0].shape)\n",
    "        x=input_ids[:,start:end]\n",
    "        #print(x.shape)\n",
    "        out=model(x,past_key_values=cut_kv)\n",
    "        ans=torch.cat([ans,out.logits],1)\n",
    "        #print(ans.shape)\n",
    "        start=end\n",
    "        end+=MAX_INPUT_LEN-MAX_LEN\n",
    "    \n",
    "    return ans\n",
    "\n",
    "ans=run_model(input_ids)\n",
    "assert ans.shape[1]==input_ids.shape[1]\n",
    "print('done unit test')"
   ]
  },
  {
   "cell_type": "code",
   "execution_count": null,
   "id": "0c1223b8",
   "metadata": {},
   "outputs": [],
   "source": [
    "%whos"
   ]
  },
  {
   "cell_type": "code",
   "execution_count": 16,
   "id": "705bce68",
   "metadata": {},
   "outputs": [
    {
     "name": "stdout",
     "output_type": "stream",
     "text": [
      "2,277,060,864\n"
     ]
    }
   ],
   "source": [
    "print(f'{ans.numel():,}')"
   ]
  },
  {
   "cell_type": "code",
   "execution_count": 17,
   "id": "aa1b2ef3",
   "metadata": {},
   "outputs": [],
   "source": [
    "del(ans)"
   ]
  },
  {
   "cell_type": "markdown",
   "id": "0232269c",
   "metadata": {},
   "source": [
    "# main loop"
   ]
  },
  {
   "cell_type": "code",
   "execution_count": 18,
   "id": "94ad11c0",
   "metadata": {},
   "outputs": [],
   "source": [
    "class CodeTooLongError(ValueError):\n",
    "    def __init__(self, message=\"Code too long\"):\n",
    "        self.message = message\n",
    "        super().__init__(self.message)"
   ]
  },
  {
   "cell_type": "code",
   "execution_count": 19,
   "id": "0ab8b485",
   "metadata": {},
   "outputs": [
    {
     "data": {
      "text/plain": [
       "{'repo_name': 'VRToxin/android_external_stagefright-plugins',\n",
       " 'cross_entropy': 140487.70995995402,\n",
       " 'lexical_length': 3813}"
      ]
     },
     "execution_count": 19,
     "metadata": {},
     "output_type": "execute_result"
    }
   ],
   "source": [
    "@torch.no_grad()\n",
    "def compute_repo_metrics(repo):\n",
    "    c = repo['content']\n",
    "    num_tok = len(list(pygments.lex(c, lexer)))\n",
    "    input_ids = tokenizer.encode(c, return_tensors='pt').to(DEVICE)\n",
    "    if input_ids.shape[1]>=SKIP_LEN:\n",
    "        raise CodeTooLongError\n",
    "    out = run_model(input_ids)\n",
    "    l = F.cross_entropy(out, F.one_hot(input_ids, out.shape[-1]).to(float), reduction='sum')\n",
    "    return {'repo_name': repo['repo_name'], 'cross_entropy': l.detach().cpu().item(), 'lexical_length': num_tok}\n",
    "\n",
    "compute_repo_metrics(valid_repos[0])"
   ]
  },
  {
   "cell_type": "code",
   "execution_count": null,
   "id": "e7cff765",
   "metadata": {},
   "outputs": [
    {
     "data": {
      "application/vnd.jupyter.widget-view+json": {
       "model_id": "461df48577d749d294f4bea7ae35848d",
       "version_major": 2,
       "version_minor": 0
      },
      "text/plain": [
       "  0%|          | 0/10104 [00:00<?, ?it/s]"
      ]
     },
     "metadata": {},
     "output_type": "display_data"
    },
    {
     "name": "stdout",
     "output_type": "stream",
     "text": [
      "error at bigasbespip/Marlin\n",
      "error at Voleco/fmmExp\n",
      "error at MTASZTAKI/ApertusVR\n",
      "error at MBeanwenshengming/linuxgameserver\n",
      "error at CodeDJ/qt5-hidpi\n",
      "error at pixelpicosean/my-godot-2.1\n",
      "error at KDAB/KDAB-Creator\n",
      "error at ex/godot\n",
      "error at DarkTerror/LaPosadaDelOcio\n",
      "error at 3raZar3/fucked\n",
      "error at opencv/opencv\n",
      "error at opencv/opencv\n",
      "error at 9kight/WoWSourceV9\n",
      "error at EdwinChanYi/mysql-server\n",
      "error at AgencyDev/TrinityCore\n",
      "error at mgrunditz/qtdeclarative-2d\n",
      "error at azime/navitia\n",
      "error at OPM/ResInsight\n",
      "error at annulen/qtwebkit-snapshots\n",
      "error at annulen/qtwebkit-snapshots\n",
      "error at ComputationalPhysics/atomify-lammps\n",
      "error at 299299/Urho3D\n",
      "error at sbrown345/iod3js\n",
      "error at klim-iv/phantomjs-qt5\n",
      "error at FableQuentin/kaliveda\n",
      "error at FableQuentin/kaliveda\n",
      "error at Hikari-no-Tenshi/android_external_skia\n",
      "error at SunguckLee/MariaDB\n",
      "error at ottok/mariadb\n",
      "error at AOSPA-L/android_external_skia\n",
      "error at DSPay/DSValue\n",
      "error at fenderglass/ABruijn\n",
      "error at JeremiasE/KFormula\n",
      "error at ARM-software/ComputeLibrary\n",
      "error at AcademySoftwareFoundation/OpenColorIO\n",
      "error at openfheorg/openfhe-development\n",
      "error at bloomberg/bde\n",
      "error at bloomberg/bde\n",
      "error at aws/aws-sdk-cpp\n",
      "error at facebook/bistro\n",
      "error at nanoframework/nf-interpreter\n",
      "error at bloomberg/bde\n",
      "error at apple/swift\n",
      "error at google/skia\n",
      "error at google/skia\n",
      "error at bloomberg/bde\n",
      "error at bloomberg/bde\n",
      "error at WebAssembly/binaryen\n",
      "error at google/skia\n",
      "error at KhronosGroup/VK-GL-CTS\n",
      "error at KhronosGroup/VK-GL-CTS\n",
      "error at youtube/cobalt\n",
      "error at quyse/inanity\n",
      "error at adam8157/gpdb\n",
      "error at ahoppen/swift\n",
      "error at JGiola/swift\n",
      "error at KhronosGroup/VK-GL-CTS\n",
      "error at youtube/cobalt\n",
      "error at was4444/chromium.src\n",
      "error at kneirinck/OpenSoF2MP\n",
      "error at kneirinck/OpenSoF2MP\n",
      "error at mkarlovc/qminer\n",
      "error at victor-moya/renderdoc\n",
      "error at Scytheria23/The-Eternal-Crusade\n",
      "error at Avenax/Effec7Core\n",
      "error at Pursche/ElunaTrinityWotlk\n",
      "error at Gerhood/TrinityCore\n",
      "error at kemlg/trinitycore-conciens\n",
      "error at Shadow-Game/Core\n",
      "error at EpitomeRP/Core-W\n",
      "error at 3306665/trinitycore\n",
      "error at ralph93/crtoe\n",
      "error at ElunaLuaEngine/ElunaTrinityCata\n",
      "error at DARKPOP/external_chromium_org_third_party_WebKit\n",
      "error at svenihoney/freedoko\n",
      "error at arangodb/arangodb\n",
      "error at michellab/Sire\n",
      "error at arangodb/arangodb\n",
      "error at tidatida/tpmcrypt\n",
      "error at kpu/joshua\n"
     ]
    }
   ],
   "source": [
    "ans=[]\n",
    "skiped=[]\n",
    "for r in tqdm(valid_repos ):\n",
    "    try: \n",
    "        ans.append(compute_repo_metrics(r))\n",
    "    except Exception as e:\n",
    "        print(f\"error at {r['repo_name']}\")\n",
    "        skiped.append({'repo_name':r['repo_name'],'error':e})"
   ]
  },
  {
   "cell_type": "code",
   "execution_count": null,
   "id": "39660d53",
   "metadata": {},
   "outputs": [],
   "source": [
    "#raise skiped[-1]['error']\n",
    "len(skiped)"
   ]
  },
  {
   "cell_type": "code",
   "execution_count": null,
   "id": "8c546c80",
   "metadata": {},
   "outputs": [],
   "source": [
    "def get_results(ans):\n",
    "    #need to do numerical stabilety better\n",
    "    all_tokens=sum(x['lexical_length'] for x in ans)\n",
    "    neg_log=torch.sum(torch.Tensor(tuple(x['cross_entropy'] for x in ans)))\n",
    "    preplexity=torch.exp(neg_log/(all_tokens*LEX_VOCAB))\n",
    "    return {'preplexity':preplexity.detach().cpu().item(),'lex tokens':all_tokens}\n",
    "\n",
    "results=get_results(ans)\n",
    "results"
   ]
  },
  {
   "cell_type": "markdown",
   "id": "e664b71b",
   "metadata": {},
   "source": [
    "# record keeping"
   ]
  },
  {
   "cell_type": "code",
   "execution_count": null,
   "id": "4c30c819",
   "metadata": {},
   "outputs": [],
   "source": [
    "good_df=pd.DataFrame(ans)\n",
    "bad_df=pd.DataFrame(skiped)\n",
    "ans_df=pd.DataFrame([results])\n",
    "\n",
    "if SAVE_DIR:\n",
    "    os.makedirs(SAVE_DIR)\n",
    "    good_df.to_csv(join(SAVE_DIR,'calc.csv'),index=False)\n",
    "    bad_df.to_csv(join(SAVE_DIR,'error.csv'),index=False)\n",
    "    ans_df.to_csv(join(SAVE_DIR,'result.csv'),index=False)"
   ]
  },
  {
   "cell_type": "code",
   "execution_count": null,
   "id": "e48a4725",
   "metadata": {},
   "outputs": [],
   "source": []
  }
 ],
 "metadata": {
  "kernelspec": {
   "display_name": "Python 3 (ipykernel)",
   "language": "python",
   "name": "python3"
  },
  "language_info": {
   "codemirror_mode": {
    "name": "ipython",
    "version": 3
   },
   "file_extension": ".py",
   "mimetype": "text/x-python",
   "name": "python",
   "nbconvert_exporter": "python",
   "pygments_lexer": "ipython3",
   "version": "3.10.11"
  }
 },
 "nbformat": 4,
 "nbformat_minor": 5
}
